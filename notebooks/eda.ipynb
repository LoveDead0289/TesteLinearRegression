{
 "cells": [
  {
   "cell_type": "markdown",
   "metadata": {},
   "source": [
    "# Análise Exploratória de Dados (EDA) - Imóveis Rurais\n",
    "\n",
    "**Autor:** Marcos Paulo Roriz Lima Reis  \n",
    "**RA:** 22007534  \n",
    "**Curso:** Engenharia da Computação - UniCEUB\n",
    "\n",
    "## Objetivo\n",
    "Realizar análise exploratória dos dados coletados de imóveis rurais para entender:\n",
    "- Distribuição de preços\n",
    "- Relação entre área e preço\n",
    "- Características dos dados\n",
    "- Identificação de outliers\n",
    "- Correlações entre variáveis"
   ]
  },
  {
   "cell_type": "markdown",
   "metadata": {},
   "source": [
    "## 1. Importação de Bibliotecas"
   ]
  },
  {
   "cell_type": "code",
   "execution_count": null,
   "metadata": {},
   "outputs": [],
   "source": [
    "import pandas as pd\n",
    "import numpy as np\n",
    "import matplotlib.pyplot as plt\n",
    "import seaborn as sns\n",
    "from pathlib import Path\n",
    "\n",
    "# Configurações de visualização\n",
    "plt.style.use('seaborn-v0_8-darkgrid')\n",
    "sns.set_palette('husl')\n",
    "%matplotlib inline\n",
    "\n",
    "# Configurações do pandas\n",
    "pd.set_option('display.max_columns', None)\n",
    "pd.set_option('display.max_rows', 100)\n",
    "pd.set_option('display.float_format', lambda x: '%.2f' % x)"
   ]
  },
  {
   "cell_type": "markdown",
   "metadata": {},
   "source": [
    "## 2. Carregamento dos Dados"
   ]
  },
  {
   "cell_type": "code",
   "execution_count": null,
   "metadata": {},
   "outputs": [],
   "source": [
    "# Encontrar o arquivo CSV mais recente na pasta data/raw\n",
    "data_path = Path('../data/raw')\n",
    "csv_files = list(data_path.glob('imoveis_rurais_*.csv'))\n",
    "\n",
    "if csv_files:\n",
    "    # Pegar o arquivo mais recente\n",
    "    latest_file = max(csv_files, key=lambda x: x.stat().st_mtime)\n",
    "    print(f\"Carregando dados de: {latest_file.name}\")\n",
    "    df = pd.read_csv(latest_file)\n",
    "else:\n",
    "    print(\"Nenhum arquivo de dados encontrado. Execute o scraper primeiro.\")\n",
    "    df = pd.DataFrame()"
   ]
  },
  {
   "cell_type": "markdown",
   "metadata": {},
   "source": [
    "## 3. Visão Geral dos Dados"
   ]
  },
  {
   "cell_type": "code",
   "execution_count": null,
   "metadata": {},
   "outputs": [],
   "source": [
    "# Informações básicas do dataset\n",
    "print(\"Dimensões do dataset:\", df.shape)\n",
    "print(\"\\nPrimeiras linhas:\")\n",
    "df.head()"
   ]
  },
  {
   "cell_type": "code",
   "execution_count": null,
   "metadata": {},
   "outputs": [],
   "source": [
    "# Informações sobre tipos de dados e valores nulos\n",
    "print(\"Informações do dataset:\")\n",
    "df.info()"
   ]
  },
  {
   "cell_type": "code",
   "execution_count": null,
   "metadata": {},
   "outputs": [],
   "source": [
    "# Estatísticas descritivas\n",
    "print(\"Estatísticas descritivas:\")\n",
    "df.describe()"
   ]
  },
  {
   "cell_type": "markdown",
   "metadata": {},
   "source": [
    "## 4. Tratamento de Dados"
   ]
  },
  {
   "cell_type": "code",
   "execution_count": null,
   "metadata": {},
   "outputs": [],
   "source": [
    "# Verificar valores nulos\n",
    "print(\"Valores nulos por coluna:\")\n",
    "print(df.isnull().sum())\n",
    "print(f\"\\nPercentual de nulos:\")\n",
    "print((df.isnull().sum() / len(df)) * 100)"
   ]
  },
  {
   "cell_type": "code",
   "execution_count": null,
   "metadata": {},
   "outputs": [],
   "source": [
    "# Remover duplicatas, se houver\n",
    "duplicates = df.duplicated().sum()\n",
    "print(f\"Número de duplicatas: {duplicates}\")\n",
    "\n",
    "if duplicates > 0:\n",
    "    df = df.drop_duplicates()\n",
    "    print(f\"Duplicatas removidas. Novo tamanho: {df.shape}\")"
   ]
  },
  {
   "cell_type": "code",
   "execution_count": null,
   "metadata": {},
   "outputs": [],
   "source": [
    "# Criar variável derivada: Preço por hectare\n",
    "if 'preco' in df.columns and 'area' in df.columns:\n",
    "    df['preco_por_hectare'] = df['preco'] / df['area']\n",
    "    print(\"Variável 'preco_por_hectare' criada com sucesso.\")"
   ]
  },
  {
   "cell_type": "markdown",
   "metadata": {},
   "source": [
    "## 5. Análise Univariada"
   ]
  },
  {
   "cell_type": "code",
   "execution_count": null,
   "metadata": {},
   "outputs": [],
   "source": [
    "# Distribuição de preços\n",
    "if 'preco' in df.columns:\n",
    "    fig, axes = plt.subplots(1, 2, figsize=(15, 5))\n",
    "    \n",
    "    # Histograma\n",
    "    axes[0].hist(df['preco'], bins=30, edgecolor='black')\n",
    "    axes[0].set_xlabel('Preço (R$)')\n",
    "    axes[0].set_ylabel('Frequência')\n",
    "    axes[0].set_title('Distribuição de Preços')\n",
    "    axes[0].grid(True, alpha=0.3)\n",
    "    \n",
    "    # Boxplot\n",
    "    axes[1].boxplot(df['preco'])\n",
    "    axes[1].set_ylabel('Preço (R$)')\n",
    "    axes[1].set_title('Boxplot de Preços')\n",
    "    axes[1].grid(True, alpha=0.3)\n",
    "    \n",
    "    plt.tight_layout()\n",
    "    plt.show()\n",
    "    \n",
    "    print(f\"Preço médio: R$ {df['preco'].mean():,.2f}\")\n",
    "    print(f\"Preço mediano: R$ {df['preco'].median():,.2f}\")\n",
    "    print(f\"Preço mínimo: R$ {df['preco'].min():,.2f}\")\n",
    "    print(f\"Preço máximo: R$ {df['preco'].max():,.2f}\")"
   ]
  },
  {
   "cell_type": "code",
   "execution_count": null,
   "metadata": {},
   "outputs": [],
   "source": [
    "# Distribuição de áreas\n",
    "if 'area' in df.columns:\n",
    "    fig, axes = plt.subplots(1, 2, figsize=(15, 5))\n",
    "    \n",
    "    # Histograma\n",
    "    axes[0].hist(df['area'], bins=30, edgecolor='black', color='green')\n",
    "    axes[0].set_xlabel('Área (hectares)')\n",
    "    axes[0].set_ylabel('Frequência')\n",
    "    axes[0].set_title('Distribuição de Áreas')\n",
    "    axes[0].grid(True, alpha=0.3)\n",
    "    \n",
    "    # Boxplot\n",
    "    axes[1].boxplot(df['area'])\n",
    "    axes[1].set_ylabel('Área (hectares)')\n",
    "    axes[1].set_title('Boxplot de Áreas')\n",
    "    axes[1].grid(True, alpha=0.3)\n",
    "    \n",
    "    plt.tight_layout()\n",
    "    plt.show()\n",
    "    \n",
    "    print(f\"Área média: {df['area'].mean():.2f} hectares\")\n",
    "    print(f\"Área mediana: {df['area'].median():.2f} hectares\")\n",
    "    print(f\"Área mínima: {df['area'].min():.2f} hectares\")\n",
    "    print(f\"Área máxima: {df['area'].max():.2f} hectares\")"
   ]
  },
  {
   "cell_type": "code",
   "execution_count": null,
   "metadata": {},
   "outputs": [],
   "source": [
    "# Distribuição de preço por hectare\n",
    "if 'preco_por_hectare' in df.columns:\n",
    "    plt.figure(figsize=(15, 5))\n",
    "    \n",
    "    plt.subplot(1, 2, 1)\n",
    "    plt.hist(df['preco_por_hectare'], bins=30, edgecolor='black', color='orange')\n",
    "    plt.xlabel('Preço por Hectare (R$)')\n",
    "    plt.ylabel('Frequência')\n",
    "    plt.title('Distribuição de Preço por Hectare')\n",
    "    plt.grid(True, alpha=0.3)\n",
    "    \n",
    "    plt.subplot(1, 2, 2)\n",
    "    plt.boxplot(df['preco_por_hectare'])\n",
    "    plt.ylabel('Preço por Hectare (R$)')\n",
    "    plt.title('Boxplot de Preço por Hectare')\n",
    "    plt.grid(True, alpha=0.3)\n",
    "    \n",
    "    plt.tight_layout()\n",
    "    plt.show()"
   ]
  },
  {
   "cell_type": "markdown",
   "metadata": {},
   "source": [
    "## 6. Análise Bivariada"
   ]
  },
  {
   "cell_type": "code",
   "execution_count": null,
   "metadata": {},
   "outputs": [],
   "source": [
    "# Relação entre área e preço\n",
    "if 'area' in df.columns and 'preco' in df.columns:\n",
    "    plt.figure(figsize=(12, 6))\n",
    "    plt.scatter(df['area'], df['preco'], alpha=0.5)\n",
    "    plt.xlabel('Área (hectares)')\n",
    "    plt.ylabel('Preço (R$)')\n",
    "    plt.title('Relação entre Área e Preço')\n",
    "    plt.grid(True, alpha=0.3)\n",
    "    plt.tight_layout()\n",
    "    plt.show()\n",
    "    \n",
    "    # Calcular correlação\n",
    "    correlation = df['area'].corr(df['preco'])\n",
    "    print(f\"Correlação entre área e preço: {correlation:.4f}\")"
   ]
  },
  {
   "cell_type": "code",
   "execution_count": null,
   "metadata": {},
   "outputs": [],
   "source": [
    "# Distribuição de preços por localização\n",
    "if 'localizacao' in df.columns and 'preco' in df.columns:\n",
    "    plt.figure(figsize=(12, 6))\n",
    "    df.boxplot(column='preco', by='localizacao', figsize=(12, 6))\n",
    "    plt.xlabel('Localização')\n",
    "    plt.ylabel('Preço (R$)')\n",
    "    plt.title('Distribuição de Preços por Localização')\n",
    "    plt.suptitle('')  # Remove título padrão do pandas\n",
    "    plt.xticks(rotation=45, ha='right')\n",
    "    plt.tight_layout()\n",
    "    plt.show()"
   ]
  },
  {
   "cell_type": "markdown",
   "metadata": {},
   "source": [
    "## 7. Matriz de Correlação"
   ]
  },
  {
   "cell_type": "code",
   "execution_count": null,
   "metadata": {},
   "outputs": [],
   "source": [
    "# Selecionar apenas colunas numéricas\n",
    "numeric_cols = df.select_dtypes(include=[np.number]).columns\n",
    "\n",
    "if len(numeric_cols) > 0:\n",
    "    # Calcular matriz de correlação\n",
    "    correlation_matrix = df[numeric_cols].corr()\n",
    "    \n",
    "    # Plotar heatmap\n",
    "    plt.figure(figsize=(10, 8))\n",
    "    sns.heatmap(correlation_matrix, annot=True, cmap='coolwarm', center=0,\n",
    "                square=True, linewidths=1, cbar_kws={\"shrink\": 0.8})\n",
    "    plt.title('Matriz de Correlação')\n",
    "    plt.tight_layout()\n",
    "    plt.show()\n",
    "    \n",
    "    print(\"\\nMatriz de Correlação:\")\n",
    "    print(correlation_matrix)"
   ]
  },
  {
   "cell_type": "markdown",
   "metadata": {},
   "source": [
    "## 8. Identificação de Outliers"
   ]
  },
  {
   "cell_type": "code",
   "execution_count": null,
   "metadata": {},
   "outputs": [],
   "source": [
    "# Identificar outliers usando IQR (Interquartile Range)\n",
    "def identify_outliers(data, column):\n",
    "    \"\"\"Identifica outliers usando o método IQR.\"\"\"\n",
    "    Q1 = data[column].quantile(0.25)\n",
    "    Q3 = data[column].quantile(0.75)\n",
    "    IQR = Q3 - Q1\n",
    "    \n",
    "    lower_bound = Q1 - 1.5 * IQR\n",
    "    upper_bound = Q3 + 1.5 * IQR\n",
    "    \n",
    "    outliers = data[(data[column] < lower_bound) | (data[column] > upper_bound)]\n",
    "    \n",
    "    return outliers, lower_bound, upper_bound\n",
    "\n",
    "# Analisar outliers em preço\n",
    "if 'preco' in df.columns:\n",
    "    outliers_preco, lower_preco, upper_preco = identify_outliers(df, 'preco')\n",
    "    print(f\"Outliers em Preço:\")\n",
    "    print(f\"  - Limite inferior: R$ {lower_preco:,.2f}\")\n",
    "    print(f\"  - Limite superior: R$ {upper_preco:,.2f}\")\n",
    "    print(f\"  - Número de outliers: {len(outliers_preco)} ({len(outliers_preco)/len(df)*100:.2f}%)\")\n",
    "\n",
    "# Analisar outliers em área\n",
    "if 'area' in df.columns:\n",
    "    outliers_area, lower_area, upper_area = identify_outliers(df, 'area')\n",
    "    print(f\"\\nOutliers em Área:\")\n",
    "    print(f\"  - Limite inferior: {lower_area:.2f} hectares\")\n",
    "    print(f\"  - Limite superior: {upper_area:.2f} hectares\")\n",
    "    print(f\"  - Número de outliers: {len(outliers_area)} ({len(outliers_area)/len(df)*100:.2f}%)\")"
   ]
  },
  {
   "cell_type": "markdown",
   "metadata": {},
   "source": [
    "## 9. Salvamento dos Dados Processados"
   ]
  },
  {
   "cell_type": "code",
   "execution_count": null,
   "metadata": {},
   "outputs": [],
   "source": [
    "# Salvar dados processados\n",
    "output_path = Path('../data/processed')\n",
    "output_path.mkdir(parents=True, exist_ok=True)\n",
    "\n",
    "processed_file = output_path / 'imoveis_processados.csv'\n",
    "df.to_csv(processed_file, index=False)\n",
    "print(f\"Dados processados salvos em: {processed_file}\")"
   ]
  },
  {
   "cell_type": "markdown",
   "metadata": {},
   "source": [
    "## 10. Conclusões da Análise Exploratória\n",
    "\n",
    "### Principais Insights:\n",
    "\n",
    "1. **Distribuição dos Dados:**\n",
    "   - Analisar se os dados seguem uma distribuição normal\n",
    "   - Identificar presença de outliers significativos\n",
    "\n",
    "2. **Correlações:**\n",
    "   - Verificar relação entre área e preço\n",
    "   - Identificar outras variáveis correlacionadas\n",
    "\n",
    "3. **Qualidade dos Dados:**\n",
    "   - Verificar completude dos dados\n",
    "   - Identificar necessidade de tratamento adicional\n",
    "\n",
    "4. **Preparação para Modelagem:**\n",
    "   - Dados estão prontos para a etapa de modelagem\n",
    "   - Considerar transformações se necessário\n",
    "\n",
    "### Próximos Passos:\n",
    "- Desenvolver modelo de regressão linear no notebook `linear_regression.ipynb`\n",
    "- Avaliar performance do modelo\n",
    "- Realizar ajustes conforme necessário"
   ]
  }
 ],
 "metadata": {
  "kernelspec": {
   "display_name": "Python 3",
   "language": "python",
   "name": "python3"
  },
  "language_info": {
   "codemirror_mode": {
    "name": "ipython",
    "version": 3
   },
   "file_extension": ".py",
   "mimetype": "text/x-python",
   "name": "python",
   "nbconvert_exporter": "python",
   "pygments_lexer": "ipython3",
   "version": "3.8.0"
  }
 },
 "nbformat": 4,
 "nbformat_minor": 4
}
