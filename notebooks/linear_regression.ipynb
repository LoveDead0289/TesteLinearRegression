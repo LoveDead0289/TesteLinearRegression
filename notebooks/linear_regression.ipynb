{
 "cells": [
  {
   "cell_type": "markdown",
   "metadata": {},
   "source": [
    "# Modelo de Regressão Linear - Predição de Preços de Imóveis Rurais\n",
    "\n",
    "**Autor:** Marcos Paulo Roriz Lima Reis  \n",
    "**RA:** 22007534  \n",
    "**Curso:** Engenharia da Computação - UniCEUB\n",
    "\n",
    "## Objetivo\n",
    "Desenvolver e avaliar um modelo de regressão linear para predição de preços de imóveis rurais baseado em suas características."
   ]
  },
  {
   "cell_type": "markdown",
   "metadata": {},
   "source": [
    "## 1. Importação de Bibliotecas"
   ]
  },
  {
   "cell_type": "code",
   "execution_count": null,
   "metadata": {},
   "outputs": [],
   "source": [
    "import pandas as pd\n",
    "import numpy as np\n",
    "import matplotlib.pyplot as plt\n",
    "import seaborn as sns\n",
    "from pathlib import Path\n",
    "\n",
    "# Bibliotecas de Machine Learning\n",
    "from sklearn.model_selection import train_test_split, cross_val_score\n",
    "from sklearn.linear_model import LinearRegression\n",
    "from sklearn.preprocessing import StandardScaler\n",
    "from sklearn.metrics import mean_squared_error, r2_score, mean_absolute_error\n",
    "\n",
    "# Configurações de visualização\n",
    "plt.style.use('seaborn-v0_8-darkgrid')\n",
    "sns.set_palette('husl')\n",
    "%matplotlib inline\n",
    "\n",
    "# Configurações do pandas\n",
    "pd.set_option('display.max_columns', None)\n",
    "pd.set_option('display.float_format', lambda x: '%.2f' % x)\n",
    "\n",
    "# Seed para reprodutibilidade\n",
    "np.random.seed(42)"
   ]
  },
  {
   "cell_type": "markdown",
   "metadata": {},
   "source": [
    "## 2. Carregamento dos Dados"
   ]
  },
  {
   "cell_type": "code",
   "execution_count": null,
   "metadata": {},
   "outputs": [],
   "source": [
    "# Carregar dados processados\n",
    "data_path = Path('../data/processed/imoveis_processados.csv')\n",
    "\n",
    "if data_path.exists():\n",
    "    df = pd.read_csv(data_path)\n",
    "    print(f\"Dados carregados com sucesso! Shape: {df.shape}\")\n",
    "    print(\"\\nPrimeiras linhas:\")\n",
    "    display(df.head())\n",
    "else:\n",
    "    print(\"Arquivo de dados processados não encontrado.\")\n",
    "    print(\"Execute o notebook 'eda.ipynb' primeiro para processar os dados.\")\n",
    "    df = pd.DataFrame()"
   ]
  },
  {
   "cell_type": "markdown",
   "metadata": {},
   "source": [
    "## 3. Preparação dos Dados para Modelagem"
   ]
  },
  {
   "cell_type": "code",
   "execution_count": null,
   "metadata": {},
   "outputs": [],
   "source": [
    "# Verificar dados disponíveis\n",
    "print(\"Colunas disponíveis:\")\n",
    "print(df.columns.tolist())\n",
    "\n",
    "print(\"\\nInformações do dataset:\")\n",
    "df.info()"
   ]
  },
  {
   "cell_type": "code",
   "execution_count": null,
   "metadata": {},
   "outputs": [],
   "source": [
    "# Selecionar features (variáveis independentes) e target (variável dependente)\n",
    "# Para este exemplo, vamos usar 'area' como feature principal\n",
    "# e 'preco' como target\n",
    "\n",
    "if 'preco' in df.columns and 'area' in df.columns:\n",
    "    # Remover valores nulos\n",
    "    df_model = df[['area', 'preco']].dropna()\n",
    "    \n",
    "    # Separar features e target\n",
    "    X = df_model[['area']].values\n",
    "    y = df_model['preco'].values\n",
    "    \n",
    "    print(f\"Shape de X (features): {X.shape}\")\n",
    "    print(f\"Shape de y (target): {y.shape}\")\n",
    "    print(f\"\\nNúmero de amostras para treinamento: {len(X)}\")\n",
    "else:\n",
    "    print(\"Colunas 'preco' ou 'area' não encontradas no dataset.\")"
   ]
  },
  {
   "cell_type": "markdown",
   "metadata": {},
   "source": [
    "## 4. Divisão dos Dados (Train/Test Split)"
   ]
  },
  {
   "cell_type": "code",
   "execution_count": null,
   "metadata": {},
   "outputs": [],
   "source": [
    "# Dividir dados em conjunto de treino e teste (80/20)\n",
    "X_train, X_test, y_train, y_test = train_test_split(\n",
    "    X, y, test_size=0.2, random_state=42\n",
    ")\n",
    "\n",
    "print(\"Divisão dos dados:\")\n",
    "print(f\"  - Treino: {len(X_train)} amostras ({len(X_train)/len(X)*100:.1f}%)\")\n",
    "print(f\"  - Teste:  {len(X_test)} amostras ({len(X_test)/len(X)*100:.1f}%)\")"
   ]
  },
  {
   "cell_type": "markdown",
   "metadata": {},
   "source": [
    "## 5. Treinamento do Modelo de Regressão Linear"
   ]
  },
  {
   "cell_type": "code",
   "execution_count": null,
   "metadata": {},
   "outputs": [],
   "source": [
    "# Criar e treinar o modelo\n",
    "model = LinearRegression()\n",
    "model.fit(X_train, y_train)\n",
    "\n",
    "print(\"Modelo treinado com sucesso!\")\n",
    "print(f\"\\nParâmetros do modelo:\")\n",
    "print(f\"  - Coeficiente (slope): R$ {model.coef_[0]:,.2f} por hectare\")\n",
    "print(f\"  - Intercepto: R$ {model.intercept_:,.2f}\")\n",
    "\n",
    "# Equação da regressão\n",
    "print(f\"\\nEquação da Regressão Linear:\")\n",
    "print(f\"Preço = {model.intercept_:,.2f} + {model.coef_[0]:,.2f} × Área\")"
   ]
  },
  {
   "cell_type": "markdown",
   "metadata": {},
   "source": [
    "## 6. Predições e Avaliação do Modelo"
   ]
  },
  {
   "cell_type": "code",
   "execution_count": null,
   "metadata": {},
   "outputs": [],
   "source": [
    "# Fazer predições no conjunto de treino\n",
    "y_train_pred = model.predict(X_train)\n",
    "\n",
    "# Fazer predições no conjunto de teste\n",
    "y_test_pred = model.predict(X_test)\n",
    "\n",
    "print(\"Predições realizadas com sucesso!\")"
   ]
  },
  {
   "cell_type": "code",
   "execution_count": null,
   "metadata": {},
   "outputs": [],
   "source": [
    "# Calcular métricas de avaliação\n",
    "def evaluate_model(y_true, y_pred, dataset_name=\"\"):\n",
    "    \"\"\"Calcula e exibe métricas de avaliação do modelo.\"\"\"\n",
    "    r2 = r2_score(y_true, y_pred)\n",
    "    mse = mean_squared_error(y_true, y_pred)\n",
    "    rmse = np.sqrt(mse)\n",
    "    mae = mean_absolute_error(y_true, y_pred)\n",
    "    \n",
    "    print(f\"\\nMétricas de Avaliação - {dataset_name}:\")\n",
    "    print(f\"  - R² (Coeficiente de Determinação): {r2:.4f}\")\n",
    "    print(f\"  - MSE (Mean Squared Error): R$ {mse:,.2f}\")\n",
    "    print(f\"  - RMSE (Root Mean Squared Error): R$ {rmse:,.2f}\")\n",
    "    print(f\"  - MAE (Mean Absolute Error): R$ {mae:,.2f}\")\n",
    "    \n",
    "    return {'r2': r2, 'mse': mse, 'rmse': rmse, 'mae': mae}\n",
    "\n",
    "# Avaliar no conjunto de treino\n",
    "train_metrics = evaluate_model(y_train, y_train_pred, \"Conjunto de Treino\")\n",
    "\n",
    "# Avaliar no conjunto de teste\n",
    "test_metrics = evaluate_model(y_test, y_test_pred, \"Conjunto de Teste\")"
   ]
  },
  {
   "cell_type": "markdown",
   "metadata": {},
   "source": [
    "### Interpretação das Métricas:\n",
    "\n",
    "- **R² (R-squared)**: Indica quanto da variabilidade do preço é explicada pela área. Valores próximos de 1 indicam melhor ajuste.\n",
    "- **RMSE (Root Mean Squared Error)**: Erro médio das predições em reais. Quanto menor, melhor.\n",
    "- **MAE (Mean Absolute Error)**: Erro absoluto médio. Mais robusto a outliers que o RMSE."
   ]
  },
  {
   "cell_type": "markdown",
   "metadata": {},
   "source": [
    "## 7. Validação Cruzada"
   ]
  },
  {
   "cell_type": "code",
   "execution_count": null,
   "metadata": {},
   "outputs": [],
   "source": [
    "# Realizar validação cruzada (5-fold)\n",
    "cv_scores = cross_val_score(model, X, y, cv=5, scoring='r2')\n",
    "\n",
    "print(\"Resultados da Validação Cruzada (5-fold):\")\n",
    "print(f\"  - R² scores: {cv_scores}\")\n",
    "print(f\"  - R² médio: {cv_scores.mean():.4f} (+/- {cv_scores.std() * 2:.4f})\")"
   ]
  },
  {
   "cell_type": "markdown",
   "metadata": {},
   "source": [
    "## 8. Visualizações"
   ]
  },
  {
   "cell_type": "code",
   "execution_count": null,
   "metadata": {},
   "outputs": [],
   "source": [
    "# Visualização: Dados reais vs. Linha de regressão\n",
    "plt.figure(figsize=(12, 6))\n",
    "\n",
    "# Plotar dados de treino\n",
    "plt.scatter(X_train, y_train, alpha=0.5, label='Dados de Treino', color='blue')\n",
    "\n",
    "# Plotar dados de teste\n",
    "plt.scatter(X_test, y_test, alpha=0.5, label='Dados de Teste', color='green')\n",
    "\n",
    "# Plotar linha de regressão\n",
    "X_range = np.linspace(X.min(), X.max(), 100).reshape(-1, 1)\n",
    "y_range_pred = model.predict(X_range)\n",
    "plt.plot(X_range, y_range_pred, color='red', linewidth=2, label='Linha de Regressão')\n",
    "\n",
    "plt.xlabel('Área (hectares)', fontsize=12)\n",
    "plt.ylabel('Preço (R$)', fontsize=12)\n",
    "plt.title('Regressão Linear: Área vs. Preço', fontsize=14, fontweight='bold')\n",
    "plt.legend()\n",
    "plt.grid(True, alpha=0.3)\n",
    "plt.tight_layout()\n",
    "plt.show()"
   ]
  },
  {
   "cell_type": "code",
   "execution_count": null,
   "metadata": {},
   "outputs": [],
   "source": [
    "# Visualização: Valores Reais vs. Preditos\n",
    "fig, axes = plt.subplots(1, 2, figsize=(15, 6))\n",
    "\n",
    "# Conjunto de Treino\n",
    "axes[0].scatter(y_train, y_train_pred, alpha=0.5, color='blue')\n",
    "axes[0].plot([y_train.min(), y_train.max()], \n",
    "             [y_train.min(), y_train.max()], \n",
    "             'r--', lw=2, label='Predição Perfeita')\n",
    "axes[0].set_xlabel('Preço Real (R$)', fontsize=12)\n",
    "axes[0].set_ylabel('Preço Predito (R$)', fontsize=12)\n",
    "axes[0].set_title('Conjunto de Treino', fontsize=12, fontweight='bold')\n",
    "axes[0].legend()\n",
    "axes[0].grid(True, alpha=0.3)\n",
    "\n",
    "# Conjunto de Teste\n",
    "axes[1].scatter(y_test, y_test_pred, alpha=0.5, color='green')\n",
    "axes[1].plot([y_test.min(), y_test.max()], \n",
    "             [y_test.min(), y_test.max()], \n",
    "             'r--', lw=2, label='Predição Perfeita')\n",
    "axes[1].set_xlabel('Preço Real (R$)', fontsize=12)\n",
    "axes[1].set_ylabel('Preço Predito (R$)', fontsize=12)\n",
    "axes[1].set_title('Conjunto de Teste', fontsize=12, fontweight='bold')\n",
    "axes[1].legend()\n",
    "axes[1].grid(True, alpha=0.3)\n",
    "\n",
    "plt.tight_layout()\n",
    "plt.show()"
   ]
  },
  {
   "cell_type": "code",
   "execution_count": null,
   "metadata": {},
   "outputs": [],
   "source": [
    "# Análise de Resíduos\n",
    "residuals_train = y_train - y_train_pred\n",
    "residuals_test = y_test - y_test_pred\n",
    "\n",
    "fig, axes = plt.subplots(2, 2, figsize=(15, 12))\n",
    "\n",
    "# Resíduos vs. Valores Preditos (Treino)\n",
    "axes[0, 0].scatter(y_train_pred, residuals_train, alpha=0.5, color='blue')\n",
    "axes[0, 0].axhline(y=0, color='r', linestyle='--', linewidth=2)\n",
    "axes[0, 0].set_xlabel('Valores Preditos', fontsize=11)\n",
    "axes[0, 0].set_ylabel('Resíduos', fontsize=11)\n",
    "axes[0, 0].set_title('Resíduos - Conjunto de Treino', fontsize=12, fontweight='bold')\n",
    "axes[0, 0].grid(True, alpha=0.3)\n",
    "\n",
    "# Resíduos vs. Valores Preditos (Teste)\n",
    "axes[0, 1].scatter(y_test_pred, residuals_test, alpha=0.5, color='green')\n",
    "axes[0, 1].axhline(y=0, color='r', linestyle='--', linewidth=2)\n",
    "axes[0, 1].set_xlabel('Valores Preditos', fontsize=11)\n",
    "axes[0, 1].set_ylabel('Resíduos', fontsize=11)\n",
    "axes[0, 1].set_title('Resíduos - Conjunto de Teste', fontsize=12, fontweight='bold')\n",
    "axes[0, 1].grid(True, alpha=0.3)\n",
    "\n",
    "# Histograma de Resíduos (Treino)\n",
    "axes[1, 0].hist(residuals_train, bins=30, edgecolor='black', color='blue', alpha=0.7)\n",
    "axes[1, 0].axvline(x=0, color='r', linestyle='--', linewidth=2)\n",
    "axes[1, 0].set_xlabel('Resíduos', fontsize=11)\n",
    "axes[1, 0].set_ylabel('Frequência', fontsize=11)\n",
    "axes[1, 0].set_title('Distribuição dos Resíduos - Treino', fontsize=12, fontweight='bold')\n",
    "axes[1, 0].grid(True, alpha=0.3)\n",
    "\n",
    "# Histograma de Resíduos (Teste)\n",
    "axes[1, 1].hist(residuals_test, bins=30, edgecolor='black', color='green', alpha=0.7)\n",
    "axes[1, 1].axvline(x=0, color='r', linestyle='--', linewidth=2)\n",
    "axes[1, 1].set_xlabel('Resíduos', fontsize=11)\n",
    "axes[1, 1].set_ylabel('Frequência', fontsize=11)\n",
    "axes[1, 1].set_title('Distribuição dos Resíduos - Teste', fontsize=12, fontweight='bold')\n",
    "axes[1, 1].grid(True, alpha=0.3)\n",
    "\n",
    "plt.tight_layout()\n",
    "plt.show()"
   ]
  },
  {
   "cell_type": "markdown",
   "metadata": {},
   "source": [
    "## 9. Fazendo Novas Predições"
   ]
  },
  {
   "cell_type": "code",
   "execution_count": null,
   "metadata": {},
   "outputs": [],
   "source": [
    "# Exemplo de predição para novos imóveis\n",
    "def predict_price(area_hectares):\n",
    "    \"\"\"Prediz o preço de um imóvel baseado em sua área.\"\"\"\n",
    "    area_array = np.array([[area_hectares]])\n",
    "    predicted_price = model.predict(area_array)[0]\n",
    "    return predicted_price\n",
    "\n",
    "# Exemplos de predição\n",
    "test_areas = [10, 50, 100, 200, 500]\n",
    "\n",
    "print(\"\\nExemplos de Predições:\")\n",
    "print(\"=\" * 50)\n",
    "for area in test_areas:\n",
    "    price = predict_price(area)\n",
    "    print(f\"Área: {area:6.1f} hectares → Preço previsto: R$ {price:12,.2f}\")"
   ]
  },
  {
   "cell_type": "markdown",
   "metadata": {},
   "source": [
    "## 10. Salvamento do Modelo"
   ]
  },
  {
   "cell_type": "code",
   "execution_count": null,
   "metadata": {},
   "outputs": [],
   "source": [
    "# Salvar o modelo treinado\n",
    "import pickle\n",
    "\n",
    "model_path = Path('../data/processed')\n",
    "model_path.mkdir(parents=True, exist_ok=True)\n",
    "\n",
    "# Salvar modelo\n",
    "model_file = model_path / 'linear_regression_model.pkl'\n",
    "with open(model_file, 'wb') as f:\n",
    "    pickle.dump(model, f)\n",
    "\n",
    "print(f\"Modelo salvo em: {model_file}\")\n",
    "\n",
    "# Salvar métricas\n",
    "metrics_df = pd.DataFrame({\n",
    "    'Dataset': ['Treino', 'Teste'],\n",
    "    'R2': [train_metrics['r2'], test_metrics['r2']],\n",
    "    'RMSE': [train_metrics['rmse'], test_metrics['rmse']],\n",
    "    'MAE': [train_metrics['mae'], test_metrics['mae']]\n",
    "})\n",
    "\n",
    "metrics_file = model_path / 'model_metrics.csv'\n",
    "metrics_df.to_csv(metrics_file, index=False)\n",
    "print(f\"Métricas salvas em: {metrics_file}\")"
   ]
  },
  {
   "cell_type": "markdown",
   "metadata": {},
   "source": [
    "## 11. Conclusões\n",
    "\n",
    "### Resultados do Modelo:\n",
    "\n",
    "1. **Performance do Modelo:**\n",
    "   - O modelo de regressão linear foi treinado com sucesso\n",
    "   - Avaliar o R² para entender a capacidade preditiva\n",
    "   - RMSE e MAE indicam o erro médio das predições\n",
    "\n",
    "2. **Análise de Resíduos:**\n",
    "   - Verificar se os resíduos estão distribuídos aleatoriamente\n",
    "   - Resíduos com padrões indicam possível necessidade de modelos mais complexos\n",
    "\n",
    "3. **Limitações:**\n",
    "   - Modelo simples usando apenas a área como feature\n",
    "   - Pode ser melhorado com mais variáveis (localização, infraestrutura, etc.)\n",
    "   - Relação linear pode não capturar toda a complexidade do mercado\n",
    "\n",
    "4. **Aplicações:**\n",
    "   - Estimativa rápida de preços para novos imóveis\n",
    "   - Base para desenvolvimento de modelos mais sofisticados\n",
    "   - Ferramenta de apoio à tomada de decisão\n",
    "\n",
    "### Melhorias Futuras:\n",
    "- Incluir mais features (localização, infraestrutura, tipo de solo)\n",
    "- Testar outros algoritmos (Ridge, Lasso, Random Forest)\n",
    "- Realizar feature engineering mais avançado\n",
    "- Coletar mais dados para melhorar a generalização\n",
    "\n",
    "---\n",
    "\n",
    "**Projeto desenvolvido por Marcos Paulo Roriz Lima Reis (RA: 22007534)**  \n",
    "**Engenharia da Computação - UniCEUB**"
   ]
  }
 ],
 "metadata": {
  "kernelspec": {
   "display_name": "Python 3",
   "language": "python",
   "name": "python3"
  },
  "language_info": {
   "codemirror_mode": {
    "name": "ipython",
    "version": 3
   },
   "file_extension": ".py",
   "mimetype": "text/x-python",
   "name": "python",
   "nbconvert_exporter": "python",
   "pygments_lexer": "ipython3",
   "version": "3.8.0"
  }
 },
 "nbformat": 4,
 "nbformat_minor": 4
}
